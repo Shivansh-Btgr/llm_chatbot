{
 "cells": [
  {
   "cell_type": "code",
   "execution_count": 16,
   "metadata": {},
   "outputs": [],
   "source": [
    "import torch as th \n",
    "import torch.nn as nn \n",
    "import torch.nn.functional as F \n",
    "import torch.optim as optim\n",
    "from torch.utils.data import Dataset, random_split, DataLoader\n",
    "\n",
    "import lightning as L\n",
    "from lightning import Trainer, LightningModule\n",
    "from lightning.pytorch.callbacks import RichProgressBar, RichModelSummary\n",
    "from lightning.pytorch.callbacks.progress.rich_progress import RichProgressBarTheme\n",
    "\n",
    "import os \n",
    "import cv2 \n",
    "import numpy as np \n",
    "from random import randint\n",
    "import matplotlib.pyplot as plt\n",
    "from yoloface import face_analysis\n",
    "\n",
    "import warnings \n",
    "warnings.filterwarnings(\"ignore\")\n",
    "os.chdir('/home/dell/nruh/llm_chatbot')"
   ]
  },
  {
   "cell_type": "code",
   "execution_count": 17,
   "metadata": {},
   "outputs": [],
   "source": [
    "SAVE = r'oneshot/archive(2)/Face Data/Face Dataset'\n",
    "# SAVE = r'oneshot/archive(2)/save'"
   ]
  },
  {
   "cell_type": "code",
   "execution_count": 32,
   "metadata": {},
   "outputs": [],
   "source": [
    "class Faces(Dataset):\n",
    "    def __init__(self, path, size=20000, imgshp=64):\n",
    "        self.data = self.datareader(path, size, imgshp)\n",
    "        self.folders = os.listdir(path)\n",
    "        \n",
    "    def datareader(self, path, size, shape):\n",
    "        folders = [folder for folder in os.listdir(path) if folder[0]!=\".\"]\n",
    "        train = np.array(np.zeros((size, 3, 3, shape, shape)), dtype=np.float32) \n",
    "        for c in range(size):\n",
    "                pf = folders[randint(0, len(folders)-1)]\n",
    "                nf = folders[randint(0, len(folders)-1)]\n",
    "                files = os.listdir(os.path.join(SAVE,pf))\n",
    "                file  = os.listdir(os.path.join(SAVE,nf))\n",
    "                try:\n",
    "                    train[c, 0] = cv2.cvtColor(cv2.imread(os.path.join(SAVE,pf)+\"/\"+files[randint(0, len(files)-1)]), cv2.COLOR_BGR2RGB).reshape(3, shape, shape)/255.0\n",
    "                    train[c, 1] = cv2.imread(os.path.join(SAVE,pf)+\"/\"+files[randint(0, len(files)-1)]).reshape(3, shape, shape)/255.0\n",
    "                    train[c, 2] = cv2.imread(os.path.join(SAVE,nf)+\"/\"+file[randint(0, len(file)-1)]).reshape(3, shape, shape)/255.0\n",
    "                except:\n",
    "                    pass\n",
    "        return train\n",
    "\n",
    "    def __len__(self):\n",
    "        return self.data.shape[0]\n",
    "    \n",
    "    def __getitem__(self, idx):\n",
    "        train = th.from_numpy(self.data[idx])\n",
    "        return {\"anchor\": train[0], \"postive\": train[1], \"negative\": train[2]}      "
   ]
  },
  {
   "cell_type": "code",
   "execution_count": 23,
   "metadata": {},
   "outputs": [],
   "source": [
    "dataset = Faces(SAVE)"
   ]
  },
  {
   "cell_type": "code",
   "execution_count": 9,
   "metadata": {},
   "outputs": [],
   "source": [
    "class ConvBlock(nn.Module):\n",
    "    def __init__(self, n:int, infilter:int, outfilter:int, kernel:int, moment:float, alpha:float):\n",
    "        super(ConvBlock, self).__init__()\n",
    "        self.conv = nn.ModuleList([nn.Conv2d(infilter, outfilter, kernel, stride=2)])\n",
    "        self.norm = nn.ModuleList([nn.BatchNorm2d(outfilter)])\n",
    "        for _ in range(n-1):model = CNN()\n",
    "            self.conv.append(nn.Conv2d(outfilter, outfilter, kernel))\n",
    "            self.norm.append(nn.BatchNorm2d(outfilter, momentum=moment))\n",
    "        self.zpad = nn.ZeroPad2d(int((kernel-1)//2))\n",
    "        self.relu = nn.LeakyReLU(alpha)\n",
    "\n",
    "    def forward(self, x):\n",
    "        xl = []\n",
    "        for conv, norm in zip(self.conv, self.norm):\n",
    "            x = self.relu(norm(conv(self.zpad(x))))\n",
    "            xl.append(x)\n",
    "        return x + xl[0]\n",
    "\n",
    "\n",
    "class CNN(nn.Module):\n",
    "    def __init__(self, num:list=[1, 3, 3, 2, 2 ], filter:int=32, kernel:int=3, moment:float=0.7, alpha:float=0.03, dense:int=128, gf:int=2, drop:float=0.2):\n",
    "        super(CNN, self).__init__()\n",
    "        self.convblock = nn.ModuleList([ConvBlock(num[0], 3, filter, 7, moment, alpha)])\n",
    "        for n in num[1:]:\n",
    "            self.convblock.append(ConvBlock(n, filter, filter*gf, kernel, moment, alpha))\n",
    "            filter = filter*gf\n",
    "        self.dense =  nn.Linear(filter, dense)\n",
    "        self.drop = nn.Dropout(drop)\n",
    "        self.pool = nn.AdaptiveAvgPool2d((1, 1))\n",
    "        self.flat = nn.Flatten()\n",
    "        self.relu = nn.LeakyReLU(0.1)\n",
    "\n",
    "    def forward(self, x):\n",
    "        for convblock in self.convblock:\n",
    "            x = convblock(x)\n",
    "        x = self.drop(self.flat(self.pool(x)))\n",
    "        return self.dense(x)\n",
    "    \n",
    "\n",
    "class CNN(nn.Module):\n",
    "    def __init__(self, num:list=[1, 3, 3, 2, 2 ], filter:int=64, kernel:int=3, moment:float=0.7, alpha:float=0.03, dense:int=128, gf:int=2, drop:float=0.2):\n",
    "        super(CNN, self).__init__()\n",
    "        self.convblock = nn.ModuleList([ConvBlock(num[0], 3, filter, 7, moment, alpha)])\n",
    "        for n in num[1:]:\n",
    "            self.convblock.append(ConvBlock(n, filter, filter*gf, kernel, moment, alpha))\n",
    "            filter = filter*gf\n",
    "        self.dense =  nn.Linear(filter, dense)\n",
    "        self.drop = nn.Dropout(drop)\n",
    "        self.pool = nn.AdaptiveAvgPool2d((1, 1))\n",
    "        self.flat = nn.Flatten()\n",
    "        self.relu = nn.LeakyReLU(0.1)\n",
    "\n",
    "    def forward(self, x):\n",
    "        for convblock in self.convblock:\n",
    "            x = convblock(x)\n",
    "        x = self.drop(self.flat(self.pool(x)))\n",
    "        return self.dense(x)"
   ]
  },
  {
   "cell_type": "code",
   "execution_count": 10,
   "metadata": {},
   "outputs": [],
   "source": [
    "class OneShot(LightningModule):\n",
    "    def __init__(self, dataset:Dataset, model:nn.Module, split:float=0.7, batchsize:int=256, \n",
    "                 shape:int=64, learning_rate:float=1e-3, decay_step:int=10):\n",
    "        super(OneShot, self).__init__()\n",
    "        self.traindata, self.validata = random_split(dataset, [int(dataset.__len__()*split), dataset.__len__()-int(dataset.__len__()*split)])\n",
    "        self.model = model\n",
    "        self.split = split\n",
    "        self.sizebatch = int(batchsize*1.2)\n",
    "        self.loss = nn.TripletMarginWithDistanceLoss(distance_function=nn.PairwiseDistance(), margin=1.0)\n",
    "        self.shp = shape\n",
    "        self.learate = learning_rate\n",
    "\n",
    "    \n",
    "    def training_step(self, batch, batch_idx):\n",
    "        a = self.model(batch[\"anchor\"].reshape(-1, 3, self.shp, self.shp))\n",
    "        p = self.model(batch[\"postive\"].reshape(-1, 3, self.shp, self.shp))\n",
    "        n = self.model(batch[\"negative\"].reshape(-1, 3, self.shp, self.shp))\n",
    "        loss = self.loss(a, p, n)\n",
    "\n",
    "        cur_lr = self.trainer.optimizers[0].param_groups[0]['lr']\n",
    "        self.log(\"lr\", cur_lr, prog_bar=True)\n",
    "        self.log(\"batch_size\", self.sizebatch, prog_bar=True)\n",
    "        self.log_dict({ \"train_loss\": loss}, on_epoch=True, on_step=True,  prog_bar=True, logger=False, batch_size=self.sizebatch)\n",
    "        return loss\n",
    "\n",
    "    def validation_step(self, batch, batch_idx):\n",
    "        a = self.model(batch[\"anchor\"].reshape(-1, 3, self.shp, self.shp))\n",
    "        p = self.model(batch[\"postive\"].reshape(-1, 3, self.shp, self.shp))\n",
    "        n = self.model(batch[\"negative\"].reshape(-1, 3, self.shp, self.shp))\n",
    "        loss = self.loss(a, p, n)\n",
    "        self.log_dict({\"valid_loss\": loss},  on_step=True, on_epoch=True, prog_bar=True, logger=False)\n",
    "        return loss\n",
    "\n",
    "    def configure_optimizers(self):\n",
    "        self.optimizer = optim.Adam(self.parameters(), lr=self.learate)\n",
    "        self.sch = optim.lr_scheduler.StepLR(self.optimizer, step_size=1, gamma=0.96)\n",
    "        return {\"optimizer\": self.optimizer, \n",
    "                \"lr_scheduler\": {\"scheduler\": self.sch, \"monitor\": \"train_loss\"}}\n",
    "    \n",
    "    def train_dataloader(self):\n",
    "        self.sizebatch = int(self.sizebatch/1.2)\n",
    "        return DataLoader(self.traindata, batch_size=self.sizebatch, shuffle=True)\n",
    "        \n",
    "    \n",
    "    def val_dataloader(self):\n",
    "        return DataLoader(self.validata, batch_size=self.sizebatch, shuffle=True)\n"
   ]
  },
  {
   "cell_type": "code",
   "execution_count": 25,
   "metadata": {},
   "outputs": [],
   "source": [
    "def callmeback():\n",
    "    progress_bar = RichProgressBar(\n",
    "                theme=RichProgressBarTheme(description= \"black\", progress_bar=\"green_yellow\", \n",
    "                progress_bar_finished =\"green\", batch_progress=\"black\",  time=\"blue\", \n",
    "                processing_speed=\"black\",metrics=\"red\", ))\n",
    "    summary  = RichModelSummary()\n",
    "    return [progress_bar, summary]"
   ]
  },
  {
   "cell_type": "code",
   "execution_count": 26,
   "metadata": {},
   "outputs": [
    {
     "name": "stdout",
     "output_type": "stream",
     "text": [
      "0 256 0.6648326359915008\n",
      "1 213 0.44200243387940735\n",
      "2 177 0.2938576432307054\n",
      "3 147 0.19536615155531986\n",
      "4 122 0.12988579352203833\n",
      "5 101 0.08635231448510454\n",
      "6 84 0.057409836863099105\n",
      "7 70 0.03816793317353621\n",
      "8 58 0.025375287622109523\n",
      "9 48 0.016870319358849577\n",
      "10 40 0.01121593888936241\n",
      "11 33 0.0074567222169343965\n",
      "12 27 0.004957472287340882\n",
      "13 22 0.0032958893686476534\n",
      "14 18 0.002191214816894383\n",
      "15 15 0.0014567911227395263\n",
      "16 12 0.0009685222822199372\n",
      "17 10 0.0006439052219047851\n",
      "18 8 0.0004280892060076505\n",
      "19 6 0.0002846076752695749\n"
     ]
    }
   ],
   "source": [
    "x = 256*1.2\n",
    "l = 1\n",
    "for c in range(20):\n",
    "    x = int(x/1.2)\n",
    "    l = l* (0.96**10)\n",
    "    print(c, x, l)"
   ]
  },
  {
   "cell_type": "code",
   "execution_count": 35,
   "metadata": {},
   "outputs": [
    {
     "name": "stderr",
     "output_type": "stream",
     "text": [
      "GPU available: True (cuda), used: True\n",
      "TPU available: False, using: 0 TPU cores\n",
      "IPU available: False, using: 0 IPUs\n",
      "HPU available: False, using: 0 HPUs\n",
      "You are using a CUDA device ('NVIDIA GeForce RTX 3050 Laptop GPU') that has Tensor Cores. To properly utilize them, you should set `torch.set_float32_matmul_precision('medium' | 'high')` which will trade-off precision for performance. For more details, read https://pytorch.org/docs/stable/generated/torch.set_float32_matmul_precision.html#torch.set_float32_matmul_precision\n",
      "Missing logger folder: /home/dell/nruh/llm_chatbot/lightning_logs\n"
     ]
    },
    {
     "name": "stderr",
     "output_type": "stream",
     "text": [
      "LOCAL_RANK: 0 - CUDA_VISIBLE_DEVICES: [0]\n",
      "\n",
      "  | Name  | Type                          | Params\n",
      "--------------------------------------------------------\n",
      "0 | model | CNN                           | 19.7 M\n",
      "1 | loss  | TripletMarginWithDistanceLoss | 0     \n",
      "--------------------------------------------------------\n",
      "19.7 M    Trainable params\n",
      "0         Non-trainable params\n",
      "19.7 M    Total params\n",
      "78.766    Total estimated model params size (MB)\n"
     ]
    },
    {
     "data": {
      "application/vnd.jupyter.widget-view+json": {
       "model_id": "be19f392b7c1488f8dd7fa498921d45c",
       "version_major": 2,
       "version_minor": 0
      },
      "text/plain": [
       "Sanity Checking: |          | 0/? [00:00<?, ?it/s]"
      ]
     },
     "metadata": {},
     "output_type": "display_data"
    },
    {
     "data": {
      "application/vnd.jupyter.widget-view+json": {
       "model_id": "40fb8f6f5c2a49f1933a290f40f6b84c",
       "version_major": 2,
       "version_minor": 0
      },
      "text/plain": [
       "Training: |          | 0/? [00:00<?, ?it/s]"
      ]
     },
     "metadata": {},
     "output_type": "display_data"
    },
    {
     "data": {
      "application/vnd.jupyter.widget-view+json": {
       "model_id": "b653b9b1809046cd8ea0aaf99befe1f5",
       "version_major": 2,
       "version_minor": 0
      },
      "text/plain": [
       "Validation: |          | 0/? [00:00<?, ?it/s]"
      ]
     },
     "metadata": {},
     "output_type": "display_data"
    },
    {
     "data": {
      "application/vnd.jupyter.widget-view+json": {
       "model_id": "7fe4343cece14c41815ea02e23a3d078",
       "version_major": 2,
       "version_minor": 0
      },
      "text/plain": [
       "Validation: |          | 0/? [00:00<?, ?it/s]"
      ]
     },
     "metadata": {},
     "output_type": "display_data"
    },
    {
     "data": {
      "application/vnd.jupyter.widget-view+json": {
       "model_id": "68528700123645088b4678ab5a243f10",
       "version_major": 2,
       "version_minor": 0
      },
      "text/plain": [
       "Validation: |          | 0/? [00:00<?, ?it/s]"
      ]
     },
     "metadata": {},
     "output_type": "display_data"
    },
    {
     "data": {
      "application/vnd.jupyter.widget-view+json": {
       "model_id": "d89eaa93804a48728357ed0137b77e7f",
       "version_major": 2,
       "version_minor": 0
      },
      "text/plain": [
       "Validation: |          | 0/? [00:00<?, ?it/s]"
      ]
     },
     "metadata": {},
     "output_type": "display_data"
    },
    {
     "data": {
      "application/vnd.jupyter.widget-view+json": {
       "model_id": "8acc5fa64c10468caa54c909fb96d142",
       "version_major": 2,
       "version_minor": 0
      },
      "text/plain": [
       "Validation: |          | 0/? [00:00<?, ?it/s]"
      ]
     },
     "metadata": {},
     "output_type": "display_data"
    },
    {
     "data": {
      "application/vnd.jupyter.widget-view+json": {
       "model_id": "f1e0921e7e644e00b984308887b32a85",
       "version_major": 2,
       "version_minor": 0
      },
      "text/plain": [
       "Validation: |          | 0/? [00:00<?, ?it/s]"
      ]
     },
     "metadata": {},
     "output_type": "display_data"
    },
    {
     "data": {
      "application/vnd.jupyter.widget-view+json": {
       "model_id": "3ce51c7a3a7f4067acac0f5f6b2162a9",
       "version_major": 2,
       "version_minor": 0
      },
      "text/plain": [
       "Validation: |          | 0/? [00:00<?, ?it/s]"
      ]
     },
     "metadata": {},
     "output_type": "display_data"
    },
    {
     "data": {
      "application/vnd.jupyter.widget-view+json": {
       "model_id": "8c318b80700d47eca1ae4e4b46a4baef",
       "version_major": 2,
       "version_minor": 0
      },
      "text/plain": [
       "Validation: |          | 0/? [00:00<?, ?it/s]"
      ]
     },
     "metadata": {},
     "output_type": "display_data"
    },
    {
     "data": {
      "application/vnd.jupyter.widget-view+json": {
       "model_id": "b5f8b8063ec14287b714cddd7e979cfb",
       "version_major": 2,
       "version_minor": 0
      },
      "text/plain": [
       "Validation: |          | 0/? [00:00<?, ?it/s]"
      ]
     },
     "metadata": {},
     "output_type": "display_data"
    },
    {
     "data": {
      "application/vnd.jupyter.widget-view+json": {
       "model_id": "0115f21a2fad4f5db5363280b0d239ac",
       "version_major": 2,
       "version_minor": 0
      },
      "text/plain": [
       "Validation: |          | 0/? [00:00<?, ?it/s]"
      ]
     },
     "metadata": {},
     "output_type": "display_data"
    },
    {
     "data": {
      "application/vnd.jupyter.widget-view+json": {
       "model_id": "44ae26eb6f984fe89ef0450c80b4f341",
       "version_major": 2,
       "version_minor": 0
      },
      "text/plain": [
       "Validation: |          | 0/? [00:00<?, ?it/s]"
      ]
     },
     "metadata": {},
     "output_type": "display_data"
    },
    {
     "data": {
      "application/vnd.jupyter.widget-view+json": {
       "model_id": "4193f87e7d9a430db97081e5c1230746",
       "version_major": 2,
       "version_minor": 0
      },
      "text/plain": [
       "Validation: |          | 0/? [00:00<?, ?it/s]"
      ]
     },
     "metadata": {},
     "output_type": "display_data"
    },
    {
     "data": {
      "application/vnd.jupyter.widget-view+json": {
       "model_id": "75f5e4868cf042739a26478ab71527cb",
       "version_major": 2,
       "version_minor": 0
      },
      "text/plain": [
       "Validation: |          | 0/? [00:00<?, ?it/s]"
      ]
     },
     "metadata": {},
     "output_type": "display_data"
    },
    {
     "data": {
      "application/vnd.jupyter.widget-view+json": {
       "model_id": "1f9b3828375f43eb8a4d6014e2e38ae1",
       "version_major": 2,
       "version_minor": 0
      },
      "text/plain": [
       "Validation: |          | 0/? [00:00<?, ?it/s]"
      ]
     },
     "metadata": {},
     "output_type": "display_data"
    },
    {
     "data": {
      "application/vnd.jupyter.widget-view+json": {
       "model_id": "f9589e7250584131807378504180010e",
       "version_major": 2,
       "version_minor": 0
      },
      "text/plain": [
       "Validation: |          | 0/? [00:00<?, ?it/s]"
      ]
     },
     "metadata": {},
     "output_type": "display_data"
    },
    {
     "data": {
      "application/vnd.jupyter.widget-view+json": {
       "model_id": "e22a48f5f5cf4b558e296d1dd2b447e3",
       "version_major": 2,
       "version_minor": 0
      },
      "text/plain": [
       "Validation: |          | 0/? [00:00<?, ?it/s]"
      ]
     },
     "metadata": {},
     "output_type": "display_data"
    },
    {
     "data": {
      "application/vnd.jupyter.widget-view+json": {
       "model_id": "fda6a0b64850493a965b139ce92751b4",
       "version_major": 2,
       "version_minor": 0
      },
      "text/plain": [
       "Validation: |          | 0/? [00:00<?, ?it/s]"
      ]
     },
     "metadata": {},
     "output_type": "display_data"
    },
    {
     "data": {
      "application/vnd.jupyter.widget-view+json": {
       "model_id": "0901a2069262434c9779ae692f3440e9",
       "version_major": 2,
       "version_minor": 0
      },
      "text/plain": [
       "Validation: |          | 0/? [00:00<?, ?it/s]"
      ]
     },
     "metadata": {},
     "output_type": "display_data"
    },
    {
     "data": {
      "application/vnd.jupyter.widget-view+json": {
       "model_id": "00345054194e4394912b683cfbd0f86d",
       "version_major": 2,
       "version_minor": 0
      },
      "text/plain": [
       "Validation: |          | 0/? [00:00<?, ?it/s]"
      ]
     },
     "metadata": {},
     "output_type": "display_data"
    },
    {
     "data": {
      "application/vnd.jupyter.widget-view+json": {
       "model_id": "272856efdcd84c7eb356fad1ee67a739",
       "version_major": 2,
       "version_minor": 0
      },
      "text/plain": [
       "Validation: |          | 0/? [00:00<?, ?it/s]"
      ]
     },
     "metadata": {},
     "output_type": "display_data"
    },
    {
     "data": {
      "application/vnd.jupyter.widget-view+json": {
       "model_id": "8e9985be94c649d59d579607f80cdbc8",
       "version_major": 2,
       "version_minor": 0
      },
      "text/plain": [
       "Validation: |          | 0/? [00:00<?, ?it/s]"
      ]
     },
     "metadata": {},
     "output_type": "display_data"
    },
    {
     "data": {
      "application/vnd.jupyter.widget-view+json": {
       "model_id": "7931fa4aeee1408d8f5075561ee11f6b",
       "version_major": 2,
       "version_minor": 0
      },
      "text/plain": [
       "Validation: |          | 0/? [00:00<?, ?it/s]"
      ]
     },
     "metadata": {},
     "output_type": "display_data"
    },
    {
     "data": {
      "application/vnd.jupyter.widget-view+json": {
       "model_id": "ad02b5d4b79b483fa5b4f2b8821152e4",
       "version_major": 2,
       "version_minor": 0
      },
      "text/plain": [
       "Validation: |          | 0/? [00:00<?, ?it/s]"
      ]
     },
     "metadata": {},
     "output_type": "display_data"
    },
    {
     "data": {
      "application/vnd.jupyter.widget-view+json": {
       "model_id": "258e2f6635f44a01ac4a655407b1ae8a",
       "version_major": 2,
       "version_minor": 0
      },
      "text/plain": [
       "Validation: |          | 0/? [00:00<?, ?it/s]"
      ]
     },
     "metadata": {},
     "output_type": "display_data"
    },
    {
     "data": {
      "application/vnd.jupyter.widget-view+json": {
       "model_id": "7aae63221d8a4dc0859ab5bb154a32b0",
       "version_major": 2,
       "version_minor": 0
      },
      "text/plain": [
       "Validation: |          | 0/? [00:00<?, ?it/s]"
      ]
     },
     "metadata": {},
     "output_type": "display_data"
    },
    {
     "data": {
      "application/vnd.jupyter.widget-view+json": {
       "model_id": "2c3b0cf57ae74a869345ad7511229b19",
       "version_major": 2,
       "version_minor": 0
      },
      "text/plain": [
       "Validation: |          | 0/? [00:00<?, ?it/s]"
      ]
     },
     "metadata": {},
     "output_type": "display_data"
    },
    {
     "data": {
      "application/vnd.jupyter.widget-view+json": {
       "model_id": "6d06affe9c5e4b92824ffad62e0a9a1d",
       "version_major": 2,
       "version_minor": 0
      },
      "text/plain": [
       "Validation: |          | 0/? [00:00<?, ?it/s]"
      ]
     },
     "metadata": {},
     "output_type": "display_data"
    },
    {
     "data": {
      "application/vnd.jupyter.widget-view+json": {
       "model_id": "e25c42b5cc87408396023e8f070f4ace",
       "version_major": 2,
       "version_minor": 0
      },
      "text/plain": [
       "Validation: |          | 0/? [00:00<?, ?it/s]"
      ]
     },
     "metadata": {},
     "output_type": "display_data"
    },
    {
     "data": {
      "application/vnd.jupyter.widget-view+json": {
       "model_id": "5e6d0be576da4b4999cb61e4db7faa90",
       "version_major": 2,
       "version_minor": 0
      },
      "text/plain": [
       "Validation: |          | 0/? [00:00<?, ?it/s]"
      ]
     },
     "metadata": {},
     "output_type": "display_data"
    },
    {
     "data": {
      "application/vnd.jupyter.widget-view+json": {
       "model_id": "32d419db27664c9881ab6344da85db25",
       "version_major": 2,
       "version_minor": 0
      },
      "text/plain": [
       "Validation: |          | 0/? [00:00<?, ?it/s]"
      ]
     },
     "metadata": {},
     "output_type": "display_data"
    },
    {
     "data": {
      "application/vnd.jupyter.widget-view+json": {
       "model_id": "71ea32a3c0c8474e9bce12d8a6faf2b0",
       "version_major": 2,
       "version_minor": 0
      },
      "text/plain": [
       "Validation: |          | 0/? [00:00<?, ?it/s]"
      ]
     },
     "metadata": {},
     "output_type": "display_data"
    },
    {
     "data": {
      "application/vnd.jupyter.widget-view+json": {
       "model_id": "58afd344eb3d44b6810c6209ac8c2bf8",
       "version_major": 2,
       "version_minor": 0
      },
      "text/plain": [
       "Validation: |          | 0/? [00:00<?, ?it/s]"
      ]
     },
     "metadata": {},
     "output_type": "display_data"
    },
    {
     "data": {
      "application/vnd.jupyter.widget-view+json": {
       "model_id": "be3ed154cd5741a482e7f1fe7d27013c",
       "version_major": 2,
       "version_minor": 0
      },
      "text/plain": [
       "Validation: |          | 0/? [00:00<?, ?it/s]"
      ]
     },
     "metadata": {},
     "output_type": "display_data"
    },
    {
     "data": {
      "application/vnd.jupyter.widget-view+json": {
       "model_id": "d3a4fdebedb64726958e1253c7a97277",
       "version_major": 2,
       "version_minor": 0
      },
      "text/plain": [
       "Validation: |          | 0/? [00:00<?, ?it/s]"
      ]
     },
     "metadata": {},
     "output_type": "display_data"
    },
    {
     "data": {
      "application/vnd.jupyter.widget-view+json": {
       "model_id": "60b6563cc74e497392dce7555e7adc70",
       "version_major": 2,
       "version_minor": 0
      },
      "text/plain": [
       "Validation: |          | 0/? [00:00<?, ?it/s]"
      ]
     },
     "metadata": {},
     "output_type": "display_data"
    },
    {
     "data": {
      "application/vnd.jupyter.widget-view+json": {
       "model_id": "316dbaf106064543b03c9b8fecc206e1",
       "version_major": 2,
       "version_minor": 0
      },
      "text/plain": [
       "Validation: |          | 0/? [00:00<?, ?it/s]"
      ]
     },
     "metadata": {},
     "output_type": "display_data"
    },
    {
     "data": {
      "application/vnd.jupyter.widget-view+json": {
       "model_id": "abb66e0b851143a791eb80d13852c20b",
       "version_major": 2,
       "version_minor": 0
      },
      "text/plain": [
       "Validation: |          | 0/? [00:00<?, ?it/s]"
      ]
     },
     "metadata": {},
     "output_type": "display_data"
    },
    {
     "data": {
      "application/vnd.jupyter.widget-view+json": {
       "model_id": "35d52f97886743bdb754ecbf995baed9",
       "version_major": 2,
       "version_minor": 0
      },
      "text/plain": [
       "Validation: |          | 0/? [00:00<?, ?it/s]"
      ]
     },
     "metadata": {},
     "output_type": "display_data"
    },
    {
     "data": {
      "application/vnd.jupyter.widget-view+json": {
       "model_id": "f4c209b380b840d9b516a0d1acd51969",
       "version_major": 2,
       "version_minor": 0
      },
      "text/plain": [
       "Validation: |          | 0/? [00:00<?, ?it/s]"
      ]
     },
     "metadata": {},
     "output_type": "display_data"
    },
    {
     "data": {
      "application/vnd.jupyter.widget-view+json": {
       "model_id": "0fda99435cc449a7a473a3754c33d65b",
       "version_major": 2,
       "version_minor": 0
      },
      "text/plain": [
       "Validation: |          | 0/? [00:00<?, ?it/s]"
      ]
     },
     "metadata": {},
     "output_type": "display_data"
    },
    {
     "data": {
      "application/vnd.jupyter.widget-view+json": {
       "model_id": "a251e508459e4c01855565a6545819a3",
       "version_major": 2,
       "version_minor": 0
      },
      "text/plain": [
       "Validation: |          | 0/? [00:00<?, ?it/s]"
      ]
     },
     "metadata": {},
     "output_type": "display_data"
    }
   ],
   "source": [
    "# data_loader = DataLoader(dataset)\n",
    "trainer = Trainer()\n",
    "trainer.fit(\n",
    "    model = model\n",
    ")"
   ]
  },
  {
   "cell_type": "code",
   "execution_count": null,
   "metadata": {},
   "outputs": [],
   "source": [
    "th.save(model.to(th.device(\"cpu\")), \"oneshot.pt\")"
   ]
  },
  {
   "cell_type": "markdown",
   "metadata": {},
   "source": [
    "batch 146, lr= 0.000294"
   ]
  }
 ],
 "metadata": {
  "kernelspec": {
   "display_name": "CNN",
   "language": "python",
   "name": "python3"
  },
  "language_info": {
   "codemirror_mode": {
    "name": "ipython",
    "version": 3
   },
   "file_extension": ".py",
   "mimetype": "text/x-python",
   "name": "python",
   "nbconvert_exporter": "python",
   "pygments_lexer": "ipython3",
   "version": "3.10.13"
  },
  "orig_nbformat": 4,
  "vscode": {
   "interpreter": {
    "hash": "a580aac5ad65c26b09914c4d39579c9a7b96bf6be88d0e5d5e57a0b213e38927"
   }
  }
 },
 "nbformat": 4,
 "nbformat_minor": 2
}
